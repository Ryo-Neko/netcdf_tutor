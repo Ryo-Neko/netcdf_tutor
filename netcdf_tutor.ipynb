{
 "cells": [
  {
   "cell_type": "code",
   "execution_count": 1,
   "metadata": {},
   "outputs": [],
   "source": [
    "import numpy as np\n",
    "from netCDF4 import Dataset"
   ]
  },
  {
   "cell_type": "code",
   "execution_count": 2,
   "metadata": {},
   "outputs": [
    {
     "name": "stdout",
     "output_type": "stream",
     "text": [
      "<class 'netCDF4._netCDF4.Dataset'>\n",
      "root group (NETCDF3_CLASSIC data model, file format NETCDF3):\n",
      "    Conventions: CF-1.0\n",
      "    history: created by create_1daync_msm_r1h_dswrf.rb  2019-10-20\n",
      "    dimensions(sizes): lon(481), lat(505), time(24)\n",
      "    variables(dimensions): float32 lon(lon), float32 lat(lat), float32 time(time), int16 r1h(time,lat,lon), int16 dswrf(time,lat,lon)\n",
      "    groups: \n"
     ]
    }
   ],
   "source": [
    "nc_file = Dataset(\"path_of_your_file\", mode='r')"
   ]
  },
  {
   "cell_type": "code",
   "execution_count": 3,
   "metadata": {},
   "outputs": [
    {
     "name": "stdout",
     "output_type": "stream",
     "text": [
      "{'lon': <class 'netCDF4._netCDF4.Variable'>\n",
      "float32 lon(lon)\n",
      "    long_name: longitude\n",
      "    units: degrees_east\n",
      "    standard_name: longitude\n",
      "unlimited dimensions: \n",
      "current shape = (481,)\n",
      "filling on, default _FillValue of 9.969209968386869e+36 used, 'lat': <class 'netCDF4._netCDF4.Variable'>\n",
      "float32 lat(lat)\n",
      "    long_name: latitude\n",
      "    units: degrees_north\n",
      "    standard_name: latitude\n",
      "unlimited dimensions: \n",
      "current shape = (505,)\n",
      "filling on, default _FillValue of 9.969209968386869e+36 used, 'time': <class 'netCDF4._netCDF4.Variable'>\n",
      "float32 time(time)\n",
      "    long_name: time\n",
      "    standard_name: time\n",
      "    units: hours since 2019-10-19 00:00:00+00:00\n",
      "unlimited dimensions: \n",
      "current shape = (24,)\n",
      "filling on, default _FillValue of 9.969209968386869e+36 used, 'r1h': <class 'netCDF4._netCDF4.Variable'>\n",
      "int16 r1h(time, lat, lon)\n",
      "    scale_factor: 0.006116208155\n",
      "    add_offset: 200.0\n",
      "    long_name: rainfall in 1 hour\n",
      "    units: mm/h\n",
      "    standard_name: rainfall_rate\n",
      "unlimited dimensions: \n",
      "current shape = (24, 505, 481)\n",
      "filling on, default _FillValue of -32767 used, 'dswrf': <class 'netCDF4._netCDF4.Variable'>\n",
      "int16 dswrf(time, lat, lon)\n",
      "    scale_factor: 0.0205\n",
      "    add_offset: 665.0\n",
      "    long_name: Downward Short-Wave Radiation Flux\n",
      "    units: W/m^2\n",
      "    standard_name: surface_net_downward_shortwave_flux\n",
      "unlimited dimensions: \n",
      "current shape = (24, 505, 481)\n",
      "filling on, default _FillValue of -32767 used}\n"
     ]
    }
   ],
   "source": [
    "nc_variables = nc_file.variables\n",
    "print(nc_variables)"
   ]
  },
  {
   "cell_type": "code",
   "execution_count": 4,
   "metadata": {},
   "outputs": [
    {
     "name": "stdout",
     "output_type": "stream",
     "text": [
      "<class 'dict'>\n"
     ]
    }
   ],
   "source": [
    "print(type(nc_variables))"
   ]
  },
  {
   "cell_type": "code",
   "execution_count": 5,
   "metadata": {},
   "outputs": [
    {
     "name": "stdout",
     "output_type": "stream",
     "text": [
      "dict_keys(['lon', 'lat', 'time', 'r1h', 'dswrf'])\n"
     ]
    }
   ],
   "source": [
    "print(nc_variables.keys())"
   ]
  },
  {
   "cell_type": "code",
   "execution_count": 6,
   "metadata": {
    "scrolled": true
   },
   "outputs": [
    {
     "data": {
      "text/plain": [
       "<class 'netCDF4._netCDF4.Variable'>\n",
       "int16 r1h(time, lat, lon)\n",
       "    scale_factor: 0.006116208155\n",
       "    add_offset: 200.0\n",
       "    long_name: rainfall in 1 hour\n",
       "    units: mm/h\n",
       "    standard_name: rainfall_rate\n",
       "unlimited dimensions: \n",
       "current shape = (24, 505, 481)\n",
       "filling on, default _FillValue of -32767 used"
      ]
     },
     "execution_count": 6,
     "metadata": {},
     "output_type": "execute_result"
    }
   ],
   "source": [
    "nc_variables['r1h']"
   ]
  },
  {
   "cell_type": "code",
   "execution_count": 7,
   "metadata": {},
   "outputs": [
    {
     "name": "stdout",
     "output_type": "stream",
     "text": [
      "[[[-6.66850002e-06 -6.66850002e-06 -6.66850002e-06 ... -6.66850002e-06\n",
      "   -6.66850002e-06 -6.66850002e-06]\n",
      "  [-6.66850002e-06 -6.66850002e-06 -6.66850002e-06 ... -6.66850002e-06\n",
      "   -6.66850002e-06 -6.66850002e-06]\n",
      "  [-6.66850002e-06 -6.66850002e-06 -6.66850002e-06 ... -6.66850002e-06\n",
      "   -6.66850002e-06 -6.66850002e-06]\n",
      "  ...\n",
      "  [-6.66850002e-06 -6.66850002e-06 -6.66850002e-06 ... -6.66850002e-06\n",
      "   -6.66850002e-06 -6.66850002e-06]\n",
      "  [-6.66850002e-06 -6.66850002e-06 -6.66850002e-06 ... -6.66850002e-06\n",
      "   -6.66850002e-06 -6.66850002e-06]\n",
      "  [-6.66850002e-06 -6.66850002e-06 -6.66850002e-06 ... -6.66850002e-06\n",
      "   -6.66850002e-06 -6.66850002e-06]]\n",
      "\n",
      " [[-6.66850002e-06 -6.66850002e-06 -6.66850002e-06 ... -6.66850002e-06\n",
      "   -6.66850002e-06 -6.66850002e-06]\n",
      "  [-6.66850002e-06 -6.66850002e-06 -6.66850002e-06 ... -6.66850002e-06\n",
      "   -6.66850002e-06 -6.66850002e-06]\n",
      "  [-6.66850002e-06 -6.66850002e-06 -6.66850002e-06 ... -6.66850002e-06\n",
      "   -6.66850002e-06 -6.66850002e-06]\n",
      "  ...\n",
      "  [-6.66850002e-06 -6.66850002e-06 -6.66850002e-06 ... -6.66850002e-06\n",
      "   -6.66850002e-06 -6.66850002e-06]\n",
      "  [-6.66850002e-06 -6.66850002e-06 -6.66850002e-06 ... -6.66850002e-06\n",
      "   -6.66850002e-06 -6.66850002e-06]\n",
      "  [-6.66850002e-06 -6.66850002e-06 -6.66850002e-06 ... -6.66850002e-06\n",
      "   -6.66850002e-06 -6.66850002e-06]]\n",
      "\n",
      " [[-6.66850002e-06 -6.66850002e-06 -6.66850002e-06 ... -6.66850002e-06\n",
      "   -6.66850002e-06 -6.66850002e-06]\n",
      "  [-6.66850002e-06 -6.66850002e-06 -6.66850002e-06 ... -6.66850002e-06\n",
      "   -6.66850002e-06 -6.66850002e-06]\n",
      "  [-6.66850002e-06 -6.66850002e-06 -6.66850002e-06 ... -6.66850002e-06\n",
      "   -6.66850002e-06 -6.66850002e-06]\n",
      "  ...\n",
      "  [-6.66850002e-06 -6.66850002e-06 -6.66850002e-06 ... -6.66850002e-06\n",
      "   -6.66850002e-06 -6.66850002e-06]\n",
      "  [-6.66850002e-06 -6.66850002e-06 -6.66850002e-06 ... -6.66850002e-06\n",
      "   -6.66850002e-06 -6.66850002e-06]\n",
      "  [-6.66850002e-06 -6.66850002e-06 -6.66850002e-06 ... -6.66850002e-06\n",
      "   -6.66850002e-06 -6.66850002e-06]]\n",
      "\n",
      " ...\n",
      "\n",
      " [[-6.66850002e-06 -6.66850002e-06 -6.66850002e-06 ... -6.66850002e-06\n",
      "   -6.66850002e-06 -6.66850002e-06]\n",
      "  [-6.66850002e-06 -6.66850002e-06 -6.66850002e-06 ... -6.66850002e-06\n",
      "   -6.66850002e-06 -6.66850002e-06]\n",
      "  [-6.66850002e-06 -6.66850002e-06 -6.66850002e-06 ... -6.66850002e-06\n",
      "   -6.66850002e-06 -6.66850002e-06]\n",
      "  ...\n",
      "  [-6.66850002e-06 -6.66850002e-06 -6.66850002e-06 ... -6.66850002e-06\n",
      "   -6.66850002e-06 -6.66850002e-06]\n",
      "  [-6.66850002e-06 -6.66850002e-06 -6.66850002e-06 ... -6.66850002e-06\n",
      "   -6.66850002e-06 -6.66850002e-06]\n",
      "  [-6.66850002e-06 -6.66850002e-06 -6.66850002e-06 ... -6.66850002e-06\n",
      "   -6.66850002e-06 -6.66850002e-06]]\n",
      "\n",
      " [[-6.66850002e-06 -6.66850002e-06 -6.66850002e-06 ...  1.22317495e-01\n",
      "    9.17364538e-02  6.11554130e-02]\n",
      "  [-6.66850002e-06 -6.66850002e-06 -6.66850002e-06 ...  1.89595784e-01\n",
      "    1.22317495e-01  6.11554130e-02]\n",
      "  [-6.66850002e-06 -6.66850002e-06 -6.66850002e-06 ...  2.20176825e-01\n",
      "    1.59014744e-01  6.11554130e-02]\n",
      "  ...\n",
      "  [-6.66850002e-06 -6.66850002e-06 -6.66850002e-06 ... -6.66850002e-06\n",
      "   -6.66850002e-06 -6.66850002e-06]\n",
      "  [-6.66850002e-06 -6.66850002e-06 -6.66850002e-06 ... -6.66850002e-06\n",
      "   -6.66850002e-06 -6.66850002e-06]\n",
      "  [-6.66850002e-06 -6.66850002e-06 -6.66850002e-06 ... -6.66850002e-06\n",
      "   -6.66850002e-06 -6.66850002e-06]]\n",
      "\n",
      " [[-6.66850002e-06 -6.66850002e-06 -6.66850002e-06 ...  2.81338907e-01\n",
      "    2.50757866e-01  1.89595784e-01]\n",
      "  [-6.66850002e-06 -6.66850002e-06 -6.66850002e-06 ...  2.50757866e-01\n",
      "    2.20176825e-01  1.89595784e-01]\n",
      "  [-6.66850002e-06 -6.66850002e-06 -6.66850002e-06 ...  1.89595784e-01\n",
      "    1.89595784e-01  1.59014744e-01]\n",
      "  ...\n",
      "  [-6.66850002e-06 -6.66850002e-06 -6.66850002e-06 ... -6.66850002e-06\n",
      "   -6.66850002e-06 -6.66850002e-06]\n",
      "  [-6.66850002e-06 -6.66850002e-06 -6.66850002e-06 ... -6.66850002e-06\n",
      "   -6.66850002e-06 -6.66850002e-06]\n",
      "  [-6.66850002e-06 -6.66850002e-06 -6.66850002e-06 ... -6.66850002e-06\n",
      "   -6.66850002e-06 -6.66850002e-06]]]\n"
     ]
    }
   ],
   "source": [
    "nc_value = nc_variables['r1h'][:]\n",
    "print(nc_value)"
   ]
  }
 ],
 "metadata": {
  "kernelspec": {
   "display_name": "Python 3",
   "language": "python",
   "name": "python3"
  },
  "language_info": {
   "codemirror_mode": {
    "name": "ipython",
    "version": 3
   },
   "file_extension": ".py",
   "mimetype": "text/x-python",
   "name": "python",
   "nbconvert_exporter": "python",
   "pygments_lexer": "ipython3",
   "version": "3.7.6"
  }
 },
 "nbformat": 4,
 "nbformat_minor": 2
}
